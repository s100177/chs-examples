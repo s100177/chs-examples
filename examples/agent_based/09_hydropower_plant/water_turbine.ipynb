{
 "cells": [
  {
   "cell_type": "markdown",
   "metadata": {},
   "source": [
    "# 水轮机模型 (Water Turbine Model)"
   ]
  },
  {
   "cell_type": "markdown",
   "metadata": {},
   "source": [
    "`水轮机 (WaterTurbine)` 类模拟一个水力发电水轮机。它根据通过它的水流量及其两端的水力压头差来计算产生的电能。该模型在水量方面是无状态的，意味着入流等于出流，直到达到水轮机的最大容量。本Jupyter Notebook解释了该模型并展示了如何对其进行仿真。"
   ]
  },
  {
   "cell_type": "markdown",
   "metadata": {},
   "source": [
    "## 状态变量\n",
    "\n",
    "水轮机的状态由以下变量描述：\n",
    "\n",
    "- `outflow` (float): 通过水轮机的水流量 (m³/s)。\n",
    "- `power` (float): 水轮机产生的电功率 (瓦特)。"
   ]
  },
  {
   "cell_type": "markdown",
   "metadata": {},
   "source": [
    "## 参数\n",
    "\n",
    "水轮机的性能特点由以下参数定义：\n",
    "\n",
    "- `efficiency` (float): 水轮机的转换效率 (一个介于0.0和1.0之间的值)。\n",
    "- `max_flow_rate` (float): 水轮机可以处理的最大流量 (m³/s)。"
   ]
  },
  {
   "cell_type": "markdown",
   "metadata": {},
   "source": [
    "## 仿真示例\n",
    "\n",
    "以下示例模拟了一个在变化的入流和恒定的水头差下运行的水轮机。仿真演示了产生的功率如何随流量变化而变化。结果，包括出流量和功率，将被绘制成图表。\n",
    "\n",
    "**注意:** 要运行此Notebook，请确保您已安装 `matplotlib` 和 `numpy` (`pip install matplotlib numpy`)，并且您是从项目的根目录运行Jupyter服务器的。"
   ]
  },
  {
   "cell_type": "code",
   "execution_count": null,
   "metadata": {},
   "outputs": [],
   "source": [
    "import matplotlib.pyplot as plt\n",
    "import numpy as np\n",
    "from swp.simulation_identification.physical_objects.water_turbine import WaterTurbine\n",
    "from swp.core.interfaces import State, Parameters\n",
    "\n",
    "# 水轮机的初始状态和参数\n",
    "initial_state = State(outflow=0.0, power=0.0)\n",
    "parameters = Parameters(\n",
    "    efficiency=0.85,\n",
    "    max_flow_rate=50.0 # m³/s\n",
    ")\n",
    "\n",
    "# 创建一个WaterTurbine实例\n",
    "turbine = WaterTurbine(name=\"hydro_turbine_1\", initial_state=initial_state, parameters=parameters)\n",
    "\n",
    "# 仿真设置\n",
    "dt = 600  # 时间步长（秒）(10分钟)\n",
    "simulation_duration = 3600 * 24  # 1天\n",
    "num_steps = int(simulation_duration / dt)\n",
    "\n",
    "# 存储结果用于绘图\n",
    "history = []\n",
    "\n",
    "# 定义外部条件\n",
    "upstream_head = 100.0 # m\n",
    "downstream_head = 20.0 # m\n",
    "\n",
    "# 生成一个变化的入流模式（例如，每日需求周期）\n",
    "time_points = np.arange(num_steps)\n",
    "inflow_pattern = 25 + 25 * np.sin(2 * np.pi * time_points / (24 * 60 / 10)) # 峰值为 50 m³/s\n",
    "\n",
    "# 运行仿真循环\n",
    "for i in range(num_steps):\n",
    "    inflow = inflow_pattern[i]\n",
    "    turbine.set_inflow(inflow)\n",
    "    \n",
    "    action = {\n",
    "        'upstream_head': upstream_head,\n",
    "        'downstream_head': downstream_head\n",
    "    }\n",
    "    \n",
    "    current_state = turbine.step(action=action, dt=dt)\n",
    "    history.append(current_state.copy())\n",
    "\n",
    "# 打印最终状态\n",
    "print(\"最终状态:\", turbine.get_state())\n",
    "\n",
    "# 准备绘图数据\n",
    "time_in_hours = [i * dt / 3600 for i in range(num_steps)]\n",
    "outflows = [s['outflow'] for s in history]\n",
    "power_mw = [s['power'] / 1e6 for s in history] # 转换为兆瓦\n",
    "\n",
    "# 绘制结果\n",
    "fig, (ax1, ax2) = plt.subplots(2, 1, figsize=(12, 8), sharex=True)\n",
    "\n",
    "ax1.plot(time_in_hours, outflows, label='出流量 (Outflow)')\n",
    "ax1.plot(time_in_hours, inflow_pattern, label='入流量 (Inflow)', linestyle='--')\n",
    "ax1.set_ylabel('流量 (m³/s)')\n",
    "ax1.set_title('水轮机仿真')\n",
    "ax1.grid(True)\n",
    "ax1.legend()\n",
    "\n",
    "ax2.plot(time_in_hours, power_mw, label='发电量 (Power Generated)', color='green')\n",
    "ax2.set_xlabel('时间 (小时)')\n",
    "ax2.set_ylabel('功率 (MW)')\n",
    "ax2.grid(True)\n",
    "ax2.legend()\n",
    "\n",
    "plt.tight_layout()\n",
    "plt.show()\n"
   ]
  }
 ],
 "metadata": {
  "kernelspec": {
   "display_name": "Python 3",
   "language": "python",
   "name": "python3"
  },
  "language_info": {
   "codemirror_mode": {
    "name": "ipython",
    "version": 3
   },
   "file_extension": ".py",
   "mimetype": "text/x-python",
   "name": "python",
   "nbconvert_exporter": "python",
   "pygments_lexer": "ipython3",
   "version": "3.12.1"
  }
 },
 "nbformat": 4,
 "nbformat_minor": 2
}
