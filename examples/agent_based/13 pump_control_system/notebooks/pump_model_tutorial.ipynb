{
 "cells": [
  {
   "cell_type": "markdown",
   "metadata": {},
   "source": [
    "# 水泵模型 (Pump Model)"
   ]
  },
  {
   "cell_type": "markdown",
   "metadata": {},
   "source": [
    "`水泵 (Pump)` 类代表水系统中的一个可控水泵。它可以被开启或关闭以提供特定的流量，前提是它能克服上游和下游点之间的水头差。本Jupyter Notebook解释了`Pump`模型，并演示了其在仿真中的使用。"
   ]
  },
  {
   "cell_type": "markdown",
   "metadata": {},
   "source": [
    "## 状态变量\n",
    "\n",
    "水泵的状态由以下变量描述：\n",
    "\n",
    "- `status` (int): 水泵的运行状态 (0为关闭, 1为开启)。\n",
    "- `outflow` (float): 水泵产生的流量 (m³/s)。\n",
    "- `power_draw_kw` (float): 水泵消耗的电功率 (kW)。"
   ]
  },
  {
   "cell_type": "markdown",
   "metadata": {},
   "source": [
    "## 参数\n",
    "\n",
    "水泵的操作特性由以下参数定义：\n",
    "\n",
    "- `max_head` (float): 水泵可以克服的最大压头 (m)。\n",
    "- `max_flow_rate` (float): 当水泵开启且水头在限制范围内时的流量 (m³/s)。\n",
    "- `power_consumption_kw` (float): 水泵运行时消耗的功率 (kW)。"
   ]
  },
  {
   "cell_type": "markdown",
   "metadata": {},
   "source": [
    "## 仿真示例\n",
    "\n",
    "以下示例模拟了水泵的操作。在仿真过程中，水泵被开启和关闭，并定义了上游和下游的水位。仿真跟踪了水泵的状态、出流量和功耗，然后将这些数据绘制成图表。\n",
    "\n",
    "**注意:** 要运行此Notebook，请确保您已安装 `matplotlib` (`pip install matplotlib`)，并且您是从项目的根目录运行Jupyter服务器的。"
   ]
  },
  {
   "cell_type": "code",
   "execution_count": null,
   "metadata": {},
   "outputs": [],
   "source": [
    "import matplotlib.pyplot as plt\n",
    "from swp.simulation_identification.physical_objects.pump import Pump\n",
    "from swp.core.interfaces import State, Parameters\n",
    "\n",
    "# 水泵的初始状态和参数\n",
    "initial_state = State(status=0, outflow=0.0, power_draw_kw=0.0)\n",
    "parameters = Parameters(\n",
    "    max_head=25.0,             # 米\n",
    "    max_flow_rate=2.0,         # m³/s\n",
    "    power_consumption_kw=150.0 # kW\n",
    ")\n",
    "\n",
    "# 创建一个Pump实例\n",
    "pump = Pump(name=\"main_pump\", initial_state=initial_state, parameters=parameters)\n",
    "\n",
    "# 仿真设置\n",
    "dt = 1  # 时间步长（秒）\n",
    "simulation_duration = 100\n",
    "num_steps = int(simulation_duration / dt)\n",
    "\n",
    "# 存储结果用于绘图\n",
    "history = []\n",
    "\n",
    "# 定义外部条件\n",
    "upstream_head = 10.0\n",
    "downstream_head = 30.0\n",
    "\n",
    "# 运行仿真循环\n",
    "for t in range(num_steps):\n",
    "    # 在一段时间内开启水泵，然后关闭\n",
    "    if 20 <= t < 80:\n",
    "        control_signal = 1  # 开启\n",
    "    else:\n",
    "        control_signal = 0  # 关闭\n",
    "    \n",
    "    action = {\n",
    "        'control_signal': control_signal,\n",
    "        'upstream_head': upstream_head,\n",
    "        'downstream_head': downstream_head\n",
    "    }\n",
    "    \n",
    "    current_state = pump.step(action=action, dt=dt)\n",
    "    history.append(current_state.copy())\n",
    "\n",
    "# 打印最终状态\n",
    "print(\"最终状态:\", pump.get_state())\n",
    "\n",
    "# 准备绘图数据\n",
    "time_steps = [i * dt for i in range(num_steps)]\n",
    "statuses = [s['status'] for s in history]\n",
    "outflows = [s['outflow'] for s in history]\n",
    "power_draws = [s['power_draw_kw'] for s in history]\n",
    "\n",
    "# 绘制结果\n",
    "fig, (ax1, ax2, ax3) = plt.subplots(3, 1, figsize=(12, 10), sharex=True)\n",
    "\n",
    "ax1.plot(time_steps, statuses, label='水泵状态 (Pump Status)', drawstyle='steps-post')\n",
    "ax1.set_ylabel('状态 (0=关, 1=开)')\n",
    "ax1.set_title('水泵操作仿真')\n",
    "ax1.grid(True)\n",
    "ax1.legend()\n",
    "\n",
    "ax2.plot(time_steps, outflows, label='出流量 (Outflow)', color='orange')\n",
    "ax2.set_ylabel('出流量 (m³/s)')\n",
    "ax2.grid(True)\n",
    "ax2.legend()\n",
    "\n",
    "ax3.plot(time_steps, power_draws, label='功耗 (Power Draw)', color='green')\n",
    "ax3.set_xlabel('时间 (秒)')\n",
    "ax3.set_ylabel('功率 (kW)')\n",
    "ax3.grid(True)\n",
    "ax3.legend()\n",
    "\n",
    "plt.tight_layout()\n",
    "plt.show()\n"
   ]
  }
 ],
 "metadata": {
  "kernelspec": {
   "display_name": "Python 3",
   "language": "python",
   "name": "python3"
  },
  "language_info": {
   "codemirror_mode": {
    "name": "ipython",
    "version": 3
   },
   "file_extension": ".py",
   "mimetype": "text/x-python",
   "name": "python",
   "nbconvert_exporter": "python",
   "pygments_lexer": "ipython3",
   "version": "3.12.1"
  }
 },
 "nbformat": 4,
 "nbformat_minor": 2
}
