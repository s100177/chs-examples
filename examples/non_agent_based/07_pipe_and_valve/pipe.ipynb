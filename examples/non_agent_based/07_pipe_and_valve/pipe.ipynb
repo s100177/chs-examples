{
 "cells": [
  {
   "cell_type": "markdown",
   "metadata": {},
   "source": [
    "# 管道模型 (Pipe Model)"
   ]
  },
  {
   "cell_type": "markdown",
   "metadata": {},
   "source": [
    "`管道 (Pipe)` 类模拟水在管道中的流动。它使用达西-韦斯巴赫方程根据管道两端的压力差（水头）来计算流量。本Jupyter Notebook解释了`Pipe`模型的功能并提供了一个仿真示例。"
   ]
  },
  {
   "cell_type": "markdown",
   "metadata": {},
   "source": [
    "## 状态变量\n",
    "\n",
    "管道的状态由以下变量描述：\n",
    "\n",
    "- `outflow` (float): 计算出的通过管道的流量 (m³/s)。\n",
    "- `head_loss` (float): 由于管道内摩擦导致的压力水头损失 (m)。"
   ]
  },
  {
   "cell_type": "markdown",
   "metadata": {},
   "source": [
    "## 参数\n",
    "\n",
    "管道的物理属性由以下参数定义：\n",
    "\n",
    "- `length` (float): 管道的长度 (m)。\n",
    "- `diameter` (float): 管道的直径 (m)。\n",
    "- `friction_factor` (float): 管道的达西摩擦系数 (无量纲)。"
   ]
  },
  {
   "cell_type": "markdown",
   "metadata": {},
   "source": [
    "## 仿真示例\n",
    "\n",
    "以下示例模拟了一个连接两个具有变化水头差的点的管道。仿真演示了出流量如何响应上游水头的变化而变化。结果被绘制成图表以可视化这种关系。\n",
    "\n",
    "**注意:** 要运行此Notebook，请确保您已安装 `matplotlib` 和 `numpy` (`pip install matplotlib numpy`)，并且您是从项目的根目录运行Jupyter服务器的。"
   ]
  },
  {
   "cell_type": "code",
   "execution_count": null,
   "metadata": {},
   "outputs": [],
   "source": [
    "import matplotlib.pyplot as plt\n",
    "import numpy as np\n",
    "from swp.simulation_identification.physical_objects.pipe import Pipe\n",
    "from swp.core.interfaces import State, Parameters\n",
    "\n",
    "# 管道的初始状态和参数\n",
    "initial_state = State(outflow=0.0, head_loss=0.0)\n",
    "parameters = Parameters(\n",
    "    length=500.0,           # 米\n",
    "    diameter=0.5,           # 米\n",
    "    friction_factor=0.02    # 无量纲\n",
    ")\n",
    "\n",
    "# 创建一个Pipe实例\n",
    "pipe = Pipe(name=\"main_pipe\", initial_state=initial_state, parameters=parameters)\n",
    "\n",
    "# 仿真设置\n",
    "dt = 1  # 时间步长（秒）\n",
    "simulation_duration = 100\n",
    "num_steps = int(simulation_duration / dt)\n",
    "\n",
    "# 存储结果用于绘图\n",
    "history = []\n",
    "\n",
    "# 定义外部条件\n",
    "downstream_head = 50.0  # 恒定的下游水头 (m)\n",
    "\n",
    "# 运行仿真循环\n",
    "for t in range(num_steps):\n",
    "    # 为演示目的，随时间使用正弦波改变上游水头\n",
    "    upstream_head = 55.0 + 5.0 * np.sin(2 * np.pi * t / simulation_duration)\n",
    "    \n",
    "    action = {\n",
    "        'upstream_head': upstream_head,\n",
    "        'downstream_head': downstream_head\n",
    "    }\n",
    "    \n",
    "    current_state = pipe.step(action=action, dt=dt)\n",
    "    history.append(current_state.copy())\n",
    "\n",
    "# 打印最终状态\n",
    "print(\"最终状态:\", pipe.get_state())\n",
    "\n",
    "# 准备绘图数据\n",
    "time_steps = [i * dt for i in range(num_steps)]\n",
    "outflows = [s['outflow'] for s in history]\n",
    "head_losses = [s['head_loss'] for s in history]\n",
    "upstream_heads = [55.0 + 5.0 * np.sin(2 * np.pi * t / simulation_duration) for t in time_steps]\n",
    "\n",
    "# 绘制结果\n",
    "fig, (ax1, ax2) = plt.subplots(2, 1, figsize=(12, 8), sharex=True)\n",
    "\n",
    "ax1.plot(time_steps, outflows, label='出流量 (Outflow)')\n",
    "ax1.set_ylabel('出流量 (m³/s)')\n",
    "ax1.set_title('管道流量仿真')\n",
    "ax1.grid(True)\n",
    "ax1.legend()\n",
    "\n",
    "ax2.plot(time_steps, upstream_heads, label='上游水头 (Upstream Head)', linestyle='--')\n",
    "ax2.axhline(downstream_head, color='r', linestyle='--', label='下游水头 (Downstream Head)')\n",
    "ax2.set_xlabel('时间 (秒)')\n",
    "ax2.set_ylabel('水头 (m)')\n",
    "ax2.grid(True)\n",
    "ax2.legend()\n",
    "\n",
    "plt.tight_layout()\n",
    "plt.show()\n"
   ]
  }
 ],
 "metadata": {
  "kernelspec": {
   "display_name": "Python 3",
   "language": "python",
   "name": "python3"
  },
  "language_info": {
   "codemirror_mode": {
    "name": "ipython",
    "version": 3
   },
   "file_extension": ".py",
   "mimetype": "text/x-python",
   "name": "python",
   "nbconvert_exporter": "python",
   "pygments_lexer": "ipython3",
   "version": "3.12.1"
  }
 },
 "nbformat": 4,
 "nbformat_minor": 2
}
