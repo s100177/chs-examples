{
 "cells": [
  {
   "cell_type": "markdown",
   "metadata": {},
   "source": [
    "# 阀门模型 (Valve Model)"
   ]
  },
  {
   "cell_type": "markdown",
   "metadata": {},
   "source": [
    "`阀门 (Valve)` 类代表供水系统中的一个可控阀门。其主要功能是根据开启百分比来调节流量。流量是使用修正后的孔口方程计算的，该方程考虑了阀门两端的水头差。本Jupyter Notebook概述了 `Valve` 模型及其操作的仿真。"
   ]
  },
  {
   "cell_type": "markdown",
   "metadata": {},
   "source": [
    "## 状态变量\n",
    "\n",
    "阀门的状态由以下变量描述：\n",
    "\n",
    "- `opening` (float): 阀门的当前开启度，以百分比表示 (0-100)。\n",
    "- `outflow` (float): 计算出的通过阀门的流量 (m³/s)。"
   ]
  },
  {
   "cell_type": "markdown",
   "metadata": {},
   "source": [
    "## 参数\n",
    "\n",
    "阀门的物理属性由以下参数定义：\n",
    "\n",
    "- `discharge_coefficient` (float): 最大流量系数（当阀门100%开启时）。\n",
    "- `diameter` (float): 阀门所在管道的直径 (m)。"
   ]
  },
  {
   "cell_type": "markdown",
   "metadata": {},
   "source": [
    "## 仿真示例\n",
    "\n",
    "以下示例模拟了一个在不同控制信号下的阀门。阀门的开启度随时间调整，并根据恒定的水头差计算产生的出流量。仿真结果，包括开启百分比和出流量，将被绘制成图表。\n",
    "\n",
    "**注意:** 要运行此Notebook，请确保您已安装 `matplotlib` (`pip install matplotlib`)，并且您是从项目的根目录运行Jupyter服务器的。"
   ]
  },
  {
   "cell_type": "code",
   "execution_count": null,
   "metadata": {},
   "outputs": [],
   "source": [
    "import matplotlib.pyplot as plt\n",
    "from swp.simulation_identification.physical_objects.valve import Valve\n",
    "from swp.core.interfaces import State, Parameters\n",
    "\n",
    "# 阀门的初始状态和参数\n",
    "initial_state = State(opening=0.0, outflow=0.0)\n",
    "parameters = Parameters(\n",
    "    discharge_coefficient=0.85,\n",
    "    diameter=0.3 # 300毫米\n",
    ")\n",
    "\n",
    "# 创建一个Valve实例\n",
    "valve = Valve(name=\"control_valve\", initial_state=initial_state, parameters=parameters)\n",
    "\n",
    "# 仿真设置\n",
    "dt = 1  # 时间步长（秒）\n",
    "simulation_duration = 120\n",
    "num_steps = int(simulation_duration / dt)\n",
    "\n",
    "# 存储结果用于绘图\n",
    "history = []\n",
    "\n",
    "# 定义外部条件\n",
    "upstream_head = 20.0\n",
    "downstream_head = 15.0\n",
    "\n",
    "# 运行仿真循环\n",
    "for t in range(num_steps):\n",
    "    # 随时间改变阀门开启度\n",
    "    if t < 30:\n",
    "        control_signal = 75 # 开启到75%\n",
    "    elif t > 90:\n",
    "        control_signal = 25 # 关闭到25%\n",
    "    else:\n",
    "        control_signal = 100 # 完全开启\n",
    "\n",
    "    action = {\n",
    "        'control_signal': control_signal,\n",
    "        'upstream_head': upstream_head,\n",
    "        'downstream_head': downstream_head\n",
    "    }\n",
    "    \n",
    "    current_state = valve.step(action=action, dt=dt)\n",
    "    history.append(current_state.copy())\n",
    "\n",
    "# 打印最终状态\n",
    "print(\"最终状态:\", valve.get_state())\n",
    "\n",
    "# 准备绘图数据\n",
    "time_steps = [i * dt for i in range(num_steps)]\n",
    "openings = [s['opening'] for s in history]\n",
    "outflows = [s['outflow'] for s in history]\n",
    "\n",
    "# 绘制结果\n",
    "fig, (ax1, ax2) = plt.subplots(2, 1, figsize=(12, 8), sharex=True)\n",
    "\n",
    "ax1.plot(time_steps, openings, label='阀门开启度 (Valve Opening)', drawstyle='steps-post')\n",
    "ax1.set_ylabel('开启度 (%)')\n",
    "ax1.set_title('阀门操作仿真')\n",
    "ax1.grid(True)\n",
    "ax1.legend()\n",
    "\n",
    "ax2.plot(time_steps, outflows, label='出流量 (Outflow)', color='orange')\n",
    "ax2.set_xlabel('时间 (秒)')\n",
    "ax2.set_ylabel('出流量 (m³/s)')\n",
    "ax2.grid(True)\n",
    "ax2.legend()\n",
    "\n",
    "plt.tight_layout()\n",
    "plt.show()\n"
   ]
  }
 ],
 "metadata": {
  "kernelspec": {
   "display_name": "Python 3",
   "language": "python",
   "name": "python3"
  },
  "language_info": {
   "codemirror_mode": {
    "name": "ipython",
    "version": 3
   },
   "file_extension": ".py",
   "mimetype": "text/x-python",
   "name": "python",
   "nbconvert_exporter": "python",
   "pygments_lexer": "ipython3",
   "version": "3.12.1"
  }
 },
 "nbformat": 4,
 "nbformat_minor": 2
}
